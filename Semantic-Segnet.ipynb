{
  "cells": [
    {
      "cell_type": "markdown",
      "metadata": {},
      "source": [
        "Semantic Segmentation Using SegNet"
      ]
    },
    {
      "cell_type": "code",
      "execution_count": 1,
      "metadata": {
        "colab": {},
        "colab_type": "code",
        "id": "MfQ8WIyIQ2v-"
      },
      "outputs": [],
      "source": [
        "%matplotlib inline\n",
        "import matplotlib.pyplot as plt\n",
        "import cv2\n",
        "import numpy as np\n",
        "from glob import glob\n",
        "import tensorflow as tf"
      ]
    },
    {
      "cell_type": "code",
      "execution_count": 8,
      "metadata": {
        "colab": {},
        "colab_type": "code",
        "id": "FUQXHhK0Q5P-"
      },
      "outputs": [],
      "source": [
        "data_path = 'Dataset/' \n",
        "\n",
        "train_path = data_path+\"train/\"\n",
        "train_label_path = data_path+\"trainmask/\"\n",
        "\n",
        "valid_path = data_path+\"val/\"\n",
        "valid_label_path = data_path+\"valmask/\"\n",
        "\n",
        "test_path = data_path+\"test/\"\n",
        "test_label_path = data_path+\"testmask/\"\n",
        "\n",
        "train_file = data_path + \"train.p\"\n",
        "valid_file = data_path + \"val.p\"\n",
        "test_file = data_path + \"test.p\""
      ]
    },
    {
      "cell_type": "code",
      "execution_count": 10,
      "metadata": {
        "colab": {},
        "colab_type": "code",
        "id": "d0WbrpnZQ8Bn"
      },
      "outputs": [
        {
          "name": "stdout",
          "output_type": "stream",
          "text": [
            "367 367\n",
            "233 233\n",
            "101 101\n"
          ]
        }
      ],
      "source": [
        "train_list = sorted(glob(train_path + \"*.png\"))\n",
        "train_label_list = sorted(glob(train_label_path + \"*.png\"))\n",
        "\n",
        "valid_list = sorted(glob(valid_path + \"*.png\"))\n",
        "valid_label_list = sorted(glob(valid_label_path + \"*.png\"))\n",
        "\n",
        "test_list = sorted(glob(test_path + \"*.png\"))\n",
        "test_label_list = sorted(glob(test_label_path + \"*.png\"))\n",
        "\n",
        "train_count = len(train_list)\n",
        "test_count = len(test_list)\n",
        "valid_count = len(valid_list)\n",
        "\n",
        "print(len(train_list),int(train_count))\n",
        "print(len(test_list),int(test_count))\n",
        "print(len(valid_list),int(valid_count))"
      ]
    },
    {
      "cell_type": "code",
      "execution_count": 11,
      "metadata": {
        "colab": {},
        "colab_type": "code",
        "id": "uKX64gF1Q-Be"
      },
      "outputs": [],
      "source": [
        "#from google.colab.patches import cv2_imshow\n",
        "def binarylab(labels):\n",
        "    x = np.zeros([labels.shape[0],labels.shape[1],12])  \n",
        "    for i in range(labels.shape[0]):\n",
        "        for j in range(labels.shape[1]):\n",
        "            x[i,j,labels[i][j]]=1\n",
        "    return x\n",
        "\n",
        "def make_dataset(image_list, mask_list,num):\n",
        "  images = []\n",
        "  masks = []\n",
        "  index = 0\n",
        "  for img, mask in zip(image_list, mask_list):\n",
        "    index += 1\n",
        "    images.append(cv2.resize(cv2.imread(img), (224,224)))      # 224X224\n",
        "    masks.append(binarylab(cv2.resize(cv2.imread(mask), (224,224))))\n",
        "    if index == num: break\n",
        "        \n",
        "  images = np.array(images)\n",
        "  masks = np.array(masks)\n",
        "  return images, masks"
      ]
    },
    {
      "cell_type": "code",
      "execution_count": 12,
      "metadata": {
        "colab": {},
        "colab_type": "code",
        "id": "8pk3x4lJRAKl"
      },
      "outputs": [
        {
          "name": "stdout",
          "output_type": "stream",
          "text": [
            "(367, 224, 224, 3) (101, 224, 224, 3) (233, 224, 224, 3)\n"
          ]
        }
      ],
      "source": [
        "X_train, y_train = make_dataset(train_list, train_label_list,int(train_count))\n",
        "X_val, y_val = make_dataset(valid_list, valid_label_list,int(valid_count))\n",
        "X_test, y_test = make_dataset(test_list, test_label_list,int(test_count))\n",
        "print(X_train.shape,X_val.shape,X_test.shape)"
      ]
    },
    {
      "cell_type": "code",
      "execution_count": 13,
      "metadata": {
        "colab": {},
        "colab_type": "code",
        "id": "Z5RMdEbH41IS"
      },
      "outputs": [],
      "source": [
        "X_train = np.concatenate([X_train, X_val])\n",
        "y_train = np.concatenate([y_train, y_val])"
      ]
    },
    {
      "cell_type": "code",
      "execution_count": 14,
      "metadata": {
        "colab": {
          "base_uri": "https://localhost:8080/",
          "height": 390
        },
        "colab_type": "code",
        "id": "6zPrlwZk1Kiz",
        "outputId": "93e5d8b6-2de0-4714-c3a6-2a6f50646c92"
      },
      "outputs": [
        {
          "data": {
            "text/plain": [
              "(<AxesSubplot:>,\n",
              " <matplotlib.image.AxesImage at 0x15497ce1cc0>,\n",
              " (-0.5, 223.5, 223.5, -0.5))"
            ]
          },
          "execution_count": 14,
          "metadata": {},
          "output_type": "execute_result"
        },
        {
          "data": {
            "image/png": "[encoded data removed]",
            "text/plain": [
              "<Figure size 600x400 with 13 Axes>"
            ]
          },
          "metadata": {
            "needs_background": "light"
          },
          "output_type": "display_data"
        }
      ],
      "source": [
        "from matplotlib.gridspec import GridSpec\n",
        "from random import randint, sample\n",
        "ranidx = randint(0, len(y_train))\n",
        "gs = GridSpec(4,4)\n",
        "plt.figure(dpi=100)\n",
        "for i in range(4*3):\n",
        "    plt.subplot(gs[i]), plt.imshow(y_train[ranidx][:,:,i]), plt.axis('off')\n",
        "    \n",
        "plt.subplot(gs[12]), plt.imshow(X_train[ranidx]), plt.axis('off')"
      ]
    },
    {
      "cell_type": "code",
      "execution_count": 15,
      "metadata": {
        "colab": {},
        "colab_type": "code",
        "id": "C0iinFut4dvD"
      },
      "outputs": [],
      "source": [
        "num_classes = 12\n",
        "input_shape = X_train.shape[1:] #(480,480,3)\n",
        "smooth = 1.\n",
        "nproc = 8"
      ]
    },
    {
      "cell_type": "code",
      "execution_count": 16,
      "metadata": {},
      "outputs": [
        {
          "name": "stderr",
          "output_type": "stream",
          "text": [
            "Using TensorFlow backend.\n"
          ]
        }
      ],
      "source": [
        "from keras import backend as K\n",
        "from keras.layers import Layer\n",
        "\n",
        "\n",
        "class MaxPoolingWithArgmax2D(Layer):\n",
        "    def __init__(self, pool_size=(2, 2), strides=(2, 2), padding=\"same\", **kwargs):\n",
        "        super(MaxPoolingWithArgmax2D, self).__init__(**kwargs)\n",
        "        self.padding = padding\n",
        "        self.pool_size = pool_size\n",
        "        self.strides = strides\n",
        "\n",
        "    def call(self, inputs, **kwargs):\n",
        "        padding = self.padding\n",
        "        pool_size = self.pool_size\n",
        "        strides = self.strides\n",
        "        if K.backend() == \"tensorflow\":\n",
        "            ksize = [1, pool_size[0], pool_size[1], 1]\n",
        "            padding = padding.upper()\n",
        "            strides = [1, strides[0], strides[1], 1]\n",
        "            output, argmax = K.tf.nn.max_pool_with_argmax(\n",
        "                inputs, ksize=ksize, strides=strides, padding=padding\n",
        "            )\n",
        "        else:\n",
        "            errmsg = \"{} backend is not supported for layer {}\".format(\n",
        "                K.backend(), type(self).__name__\n",
        "            )\n",
        "            raise NotImplementedError(errmsg)\n",
        "        argmax = K.cast(argmax, K.floatx())\n",
        "        return [output, argmax]\n",
        "\n",
        "    def compute_output_shape(self, input_shape):\n",
        "        ratio = (1, 2, 2, 1)\n",
        "        output_shape = [\n",
        "            dim // ratio[idx] if dim is not None else None\n",
        "            for idx, dim in enumerate(input_shape)\n",
        "        ]\n",
        "        output_shape = tuple(output_shape)\n",
        "        return [output_shape, output_shape]\n",
        "\n",
        "    def compute_mask(self, inputs, mask=None):\n",
        "        return 2 * [None]\n",
        "\n",
        "\n",
        "class MaxUnpooling2D(Layer):\n",
        "    def __init__(self, size=(2, 2), **kwargs):\n",
        "        super(MaxUnpooling2D, self).__init__(**kwargs)\n",
        "        self.size = size\n",
        "\n",
        "    def call(self, inputs, output_shape=None):\n",
        "        updates, mask = inputs[0], inputs[1]\n",
        "        with K.tf.variable_scope(self.name):\n",
        "            mask = K.cast(mask, \"int32\")\n",
        "            input_shape = K.tf.shape(updates, out_type=\"int32\")\n",
        "            #  calculation new shape\n",
        "            if output_shape is None:\n",
        "                output_shape = (\n",
        "                    input_shape[0],\n",
        "                    input_shape[1] * self.size[0],\n",
        "                    input_shape[2] * self.size[1],\n",
        "                    input_shape[3],\n",
        "                )\n",
        "            self.output_shape1 = output_shape\n",
        "\n",
        "            # calculation indices for batch, height, width and feature maps\n",
        "            one_like_mask = K.ones_like(mask, dtype=\"int32\")\n",
        "            batch_shape = K.concatenate([[input_shape[0]], [1], [1], [1]], axis=0)\n",
        "            batch_range = K.reshape(\n",
        "                K.tf.range(output_shape[0], dtype=\"int32\"), shape=batch_shape\n",
        "            )\n",
        "            b = one_like_mask * batch_range\n",
        "            y = mask // (output_shape[2] * output_shape[3])\n",
        "            x = (mask // output_shape[3]) % output_shape[2]\n",
        "            feature_range = K.tf.range(output_shape[3], dtype=\"int32\")\n",
        "            f = one_like_mask * feature_range\n",
        "\n",
        "            # transpose indices & reshape update values to one dimension\n",
        "            updates_size = K.tf.size(updates)\n",
        "            indices = K.transpose(K.reshape(K.stack([b, y, x, f]), [4, updates_size]))\n",
        "            values = K.reshape(updates, [updates_size])\n",
        "            ret = K.tf.scatter_nd(indices, values, output_shape)\n",
        "            return ret\n",
        "\n",
        "    def compute_output_shape(self, input_shape):\n",
        "        mask_shape = input_shape[1]\n",
        "        return (\n",
        "            mask_shape[0],\n",
        "            mask_shape[1] * self.size[0],\n",
        "            mask_shape[2] * self.size[1],\n",
        "            mask_shape[3],\n",
        "        )"
      ]
    },
    {
      "cell_type": "code",
      "execution_count": 17,
      "metadata": {
        "colab": {},
        "colab_type": "code",
        "id": "tGP-ppND7d4O"
      },
      "outputs": [],
      "source": [
        "from keras.models import Model\n",
        "from keras.layers import Input\n",
        "from keras.layers.core import Activation, Reshape, Dense\n",
        "from keras.layers.convolutional import Convolution2D\n",
        "from keras.layers.normalization import BatchNormalization\n",
        "\n",
        "#from layers import MaxPoolingWithArgmax2D, MaxUnpooling2D\n",
        "\n",
        "def segnet(\n",
        "        input_shape,\n",
        "        n_labels,\n",
        "        kernel=3,\n",
        "        pool_size=(2, 2),\n",
        "        output_mode=\"softmax\"):\n",
        "    # encoder\n",
        "    inputs = Input(shape=input_shape)\n",
        "\n",
        "    conv_1 = Convolution2D(64, (kernel, kernel), padding=\"same\", kernel_initializer='he_normal', name=\"block1_conv1\")(inputs)\n",
        "    conv_1 = BatchNormalization()(conv_1)\n",
        "    conv_1 = Activation(\"relu\")(conv_1)\n",
        "    conv_2 = Convolution2D(64, (kernel, kernel), padding=\"same\", kernel_initializer='he_normal', name=\"block1_conv2\")(conv_1)\n",
        "    conv_2 = BatchNormalization()(conv_2)\n",
        "    conv_2 = Activation(\"relu\")(conv_2)\n",
        "    pool_1, mask_1 = MaxPoolingWithArgmax2D(pool_size, name=\"block1_pool\")(conv_2)\n",
        "\n",
        "    conv_3 = Convolution2D(128, (kernel, kernel), padding=\"same\" , kernel_initializer='he_normal', name=\"block2_conv1\")(pool_1)\n",
        "    conv_3 = BatchNormalization()(conv_3)\n",
        "    conv_3 = Activation(\"relu\")(conv_3)\n",
        "    conv_4 = Convolution2D(128, (kernel, kernel), padding=\"same\", kernel_initializer='he_normal',  name=\"block2_conv2\")(conv_3)\n",
        "    conv_4 = BatchNormalization()(conv_4)\n",
        "    conv_4 = Activation(\"relu\")(conv_4)\n",
        "\n",
        "    pool_2, mask_2 = MaxPoolingWithArgmax2D(pool_size, name=\"block2_pool\")(conv_4)\n",
        "\n",
        "    conv_5 = Convolution2D(256, (kernel, kernel), padding=\"same\" , kernel_initializer='he_normal', name=\"block3_conv1\")(pool_2)\n",
        "    conv_5 = BatchNormalization()(conv_5)\n",
        "    conv_5 = Activation(\"relu\")(conv_5)\n",
        "    conv_6 = Convolution2D(256, (kernel, kernel), padding=\"same\" , kernel_initializer='he_normal', name=\"block3_conv2\")(conv_5)\n",
        "    conv_6 = BatchNormalization()(conv_6)\n",
        "    conv_6 = Activation(\"relu\")(conv_6)\n",
        "    conv_7 = Convolution2D(256, (kernel, kernel), padding=\"same\" , kernel_initializer='he_normal', name=\"block3_conv3\")(conv_6)\n",
        "    conv_7 = BatchNormalization()(conv_7)\n",
        "    conv_7 = Activation(\"relu\")(conv_7)\n",
        "\n",
        "    pool_3, mask_3 = MaxPoolingWithArgmax2D(pool_size, name=\"block3_pool\")(conv_7)\n",
        "\n",
        "    conv_8 = Convolution2D(512, (kernel, kernel), padding=\"same\", kernel_initializer='he_normal', name=\"block4_conv1\")(pool_3)\n",
        "    conv_8 = BatchNormalization()(conv_8)\n",
        "    conv_8 = Activation(\"relu\")(conv_8)\n",
        "    conv_9 = Convolution2D(512, (kernel, kernel), padding=\"same\" , kernel_initializer='he_normal', name=\"block4_conv2\")(conv_8)\n",
        "    conv_9 = BatchNormalization()(conv_9)\n",
        "    conv_9 = Activation(\"relu\")(conv_9)\n",
        "    conv_10 = Convolution2D(512, (kernel, kernel), padding=\"same\" , kernel_initializer='he_normal', name=\"block4_conv3\")(conv_9)\n",
        "    conv_10 = BatchNormalization()(conv_10)\n",
        "    conv_10 = Activation(\"relu\")(conv_10)\n",
        "\n",
        "    pool_4, mask_4 = MaxPoolingWithArgmax2D(pool_size, name=\"block4_pool\")(conv_10)\n",
        "\n",
        "    conv_11 = Convolution2D(512, (kernel, kernel), padding=\"same\", kernel_initializer='he_normal', name=\"block5_conv1\")(pool_4)\n",
        "    conv_11 = BatchNormalization()(conv_11)\n",
        "    conv_11 = Activation(\"relu\")(conv_11)\n",
        "    conv_12 = Convolution2D(512, (kernel, kernel), padding=\"same\" , kernel_initializer='he_normal',  name=\"block5_conv2\")(conv_11)\n",
        "    conv_12 = BatchNormalization()(conv_12)\n",
        "    conv_12 = Activation(\"relu\")(conv_12)\n",
        "    conv_13 = Convolution2D(512, (kernel, kernel), padding=\"same\" , kernel_initializer='he_normal',  name=\"block5_conv3\")(conv_12)\n",
        "    conv_13 = BatchNormalization()(conv_13)\n",
        "    conv_13 = Activation(\"relu\")(conv_13)\n",
        "\n",
        "    pool_5, mask_5 = MaxPoolingWithArgmax2D(pool_size, name=\"block5_pool\")(conv_13)\n",
        "   \n",
        "    # decoder\n",
        "    unpool_1 = MaxUnpooling2D(pool_size)([pool_5, mask_5])\n",
        "\n",
        "    conv_14 = Convolution2D(512, (kernel, kernel), padding=\"same\", kernel_initializer='he_normal')(unpool_1)\n",
        "    conv_14 = BatchNormalization()(conv_14)\n",
        "    conv_14 = Activation(\"relu\")(conv_14)\n",
        "    conv_15 = Convolution2D(512, (kernel, kernel), padding=\"same\", kernel_initializer='he_normal')(conv_14)\n",
        "    conv_15 = BatchNormalization()(conv_15)\n",
        "    conv_15 = Activation(\"relu\")(conv_15)\n",
        "    conv_16 = Convolution2D(512, (kernel, kernel), padding=\"same\", kernel_initializer='he_normal')(conv_15)\n",
        "    conv_16 = BatchNormalization()(conv_16)\n",
        "    conv_16 = Activation(\"relu\")(conv_16)\n",
        "\n",
        "    unpool_2 = MaxUnpooling2D(pool_size)([conv_16, mask_4])\n",
        "\n",
        "    conv_17 = Convolution2D(512, (kernel, kernel), padding=\"same\", kernel_initializer='he_normal')(unpool_2)\n",
        "    conv_17 = BatchNormalization()(conv_17)\n",
        "    conv_17 = Activation(\"relu\")(conv_17)\n",
        "    conv_18 = Convolution2D(512, (kernel, kernel), padding=\"same\", kernel_initializer='he_normal')(conv_17)\n",
        "    conv_18 = BatchNormalization()(conv_18)\n",
        "    conv_18 = Activation(\"relu\")(conv_18)\n",
        "    conv_19 = Convolution2D(256, (kernel, kernel), padding=\"same\", kernel_initializer='he_normal')(conv_18)\n",
        "    conv_19 = BatchNormalization()(conv_19)\n",
        "    conv_19 = Activation(\"relu\")(conv_19)\n",
        "\n",
        "    unpool_3 = MaxUnpooling2D(pool_size)([conv_19, mask_3])\n",
        "\n",
        "    conv_20 = Convolution2D(256, (kernel, kernel), padding=\"same\", kernel_initializer='he_normal')(unpool_3)\n",
        "    conv_20 = BatchNormalization()(conv_20)\n",
        "    conv_20 = Activation(\"relu\")(conv_20)\n",
        "    conv_21 = Convolution2D(256, (kernel, kernel), padding=\"same\", kernel_initializer='he_normal')(conv_20)\n",
        "    conv_21 = BatchNormalization()(conv_21)\n",
        "    conv_21 = Activation(\"relu\")(conv_21)\n",
        "    conv_22 = Convolution2D(128, (kernel, kernel), padding=\"same\", kernel_initializer='he_normal')(conv_21)\n",
        "    conv_22 = BatchNormalization()(conv_22)\n",
        "    conv_22 = Activation(\"relu\")(conv_22)\n",
        "\n",
        "    unpool_4 = MaxUnpooling2D(pool_size)([conv_22, mask_2])\n",
        "\n",
        "    conv_23 = Convolution2D(128, (kernel, kernel), padding=\"same\", kernel_initializer='he_normal')(unpool_4)\n",
        "    conv_23 = BatchNormalization()(conv_23)\n",
        "    conv_23 = Activation(\"relu\")(conv_23)\n",
        "    conv_24 = Convolution2D(64, (kernel, kernel), padding=\"same\", kernel_initializer='he_normal')(conv_23)\n",
        "    conv_24 = BatchNormalization()(conv_24)\n",
        "    conv_24 = Activation(\"relu\")(conv_24)\n",
        "\n",
        "    unpool_5 = MaxUnpooling2D(pool_size)([conv_24, mask_1])\n",
        "\n",
        "    conv_25 = Convolution2D(64, (kernel, kernel), padding=\"same\", kernel_initializer='he_normal')(unpool_5)\n",
        "    conv_25 = BatchNormalization()(conv_25)\n",
        "    conv_25 = Activation(\"relu\")(conv_25)\n",
        "\n",
        "    conv_26 = Convolution2D(n_labels, (1, 1), padding=\"same\", kernel_initializer='he_normal')(conv_25)\n",
        "    conv_26 = BatchNormalization()(conv_26)\n",
        "\n",
        "    conv_26 = Dense(12)(conv_26)  #RELU\n",
        "    outputs = Activation(output_mode)(conv_26)  #softmax\n",
        "    print(\"Build decoder done..\")\n",
        "\n",
        "    model = Model(inputs=inputs, outputs=outputs, name=\"SegNet\")\n",
        "\n",
        "    return model"
      ]
    },
    {
      "cell_type": "code",
      "execution_count": 18,
      "metadata": {
        "colab": {},
        "colab_type": "code",
        "id": "fo1Y7WwK7gUj"
      },
      "outputs": [
        {
          "name": "stdout",
          "output_type": "stream",
          "text": [
            "WARNING:tensorflow:From d:\\Downloads\\python3.6\\lib\\site-packages\\keras\\backend\\tensorflow_backend.py:58: The name tf.get_default_graph is deprecated. Please use tf.compat.v1.get_default_graph instead.\n",
            "\n",
            "WARNING:tensorflow:From d:\\Downloads\\python3.6\\lib\\site-packages\\keras\\backend\\tensorflow_backend.py:442: The name tf.placeholder is deprecated. Please use tf.compat.v1.placeholder instead.\n",
            "\n",
            "WARNING:tensorflow:From d:\\Downloads\\python3.6\\lib\\site-packages\\keras\\backend\\tensorflow_backend.py:3590: The name tf.truncated_normal is deprecated. Please use tf.random.truncated_normal instead.\n",
            "\n",
            "WARNING:tensorflow:From d:\\Downloads\\python3.6\\lib\\site-packages\\keras\\backend\\tensorflow_backend.py:3543: The name tf.random_uniform is deprecated. Please use tf.random.uniform instead.\n",
            "\n",
            "WARNING:tensorflow:From d:\\Downloads\\python3.6\\lib\\site-packages\\keras\\backend\\tensorflow_backend.py:1154: calling reduce_max_v1 (from tensorflow.python.ops.math_ops) with keep_dims is deprecated and will be removed in a future version.\n",
            "Instructions for updating:\n",
            "keep_dims is deprecated, use keepdims instead\n",
            "WARNING:tensorflow:From d:\\Downloads\\python3.6\\lib\\site-packages\\keras\\backend\\tensorflow_backend.py:1188: calling reduce_sum_v1 (from tensorflow.python.ops.math_ops) with keep_dims is deprecated and will be removed in a future version.\n",
            "Instructions for updating:\n",
            "keep_dims is deprecated, use keepdims instead\n",
            "Build decoder done..\n"
          ]
        }
      ],
      "source": [
        "model= segnet(input_shape=input_shape, n_labels=12)  #, single_model "
      ]
    },
    {
      "cell_type": "code",
      "execution_count": 19,
      "metadata": {
        "colab": {
          "base_uri": "https://localhost:8080/",
          "height": 1000
        },
        "colab_type": "code",
        "id": "z3MXMiXmAB4E",
        "outputId": "e17cdd60-9420-439a-c6ed-7b5e96669467"
      },
      "outputs": [
        {
          "name": "stdout",
          "output_type": "stream",
          "text": [
            "____________________________________________________________________________________________________\n",
            "Layer (type)                     Output Shape          Param #     Connected to                     \n",
            "====================================================================================================\n",
            "input_1 (InputLayer)             (None, 224, 224, 3)   0                                            \n",
            "____________________________________________________________________________________________________\n",
            "block1_conv1 (Conv2D)            (None, 224, 224, 64)  1792        input_1[0][0]                    \n",
            "____________________________________________________________________________________________________\n",
            "batch_normalization_1 (BatchNorm (None, 224, 224, 64)  256         block1_conv1[0][0]               \n",
            "____________________________________________________________________________________________________\n",
            "activation_1 (Activation)        (None, 224, 224, 64)  0           batch_normalization_1[0][0]      \n",
            "____________________________________________________________________________________________________\n",
            "block1_conv2 (Conv2D)            (None, 224, 224, 64)  36928       activation_1[0][0]               \n",
            "____________________________________________________________________________________________________\n",
            "batch_normalization_2 (BatchNorm (None, 224, 224, 64)  256         block1_conv2[0][0]               \n",
            "____________________________________________________________________________________________________\n",
            "activation_2 (Activation)        (None, 224, 224, 64)  0           batch_normalization_2[0][0]      \n",
            "____________________________________________________________________________________________________\n",
            "block1_pool (MaxPoolingWithArgma [(None, 112, 112, 64) 0           activation_2[0][0]               \n",
            "____________________________________________________________________________________________________\n",
            "block2_conv1 (Conv2D)            (None, 112, 112, 128) 73856       block1_pool[0][0]                \n",
            "____________________________________________________________________________________________________\n",
            "batch_normalization_3 (BatchNorm (None, 112, 112, 128) 512         block2_conv1[0][0]               \n",
            "____________________________________________________________________________________________________\n",
            "activation_3 (Activation)        (None, 112, 112, 128) 0           batch_normalization_3[0][0]      \n",
            "____________________________________________________________________________________________________\n",
            "block2_conv2 (Conv2D)            (None, 112, 112, 128) 147584      activation_3[0][0]               \n",
            "____________________________________________________________________________________________________\n",
            "batch_normalization_4 (BatchNorm (None, 112, 112, 128) 512         block2_conv2[0][0]               \n",
            "____________________________________________________________________________________________________\n",
            "activation_4 (Activation)        (None, 112, 112, 128) 0           batch_normalization_4[0][0]      \n",
            "____________________________________________________________________________________________________\n",
            "block2_pool (MaxPoolingWithArgma [(None, 56, 56, 128), 0           activation_4[0][0]               \n",
            "____________________________________________________________________________________________________\n",
            "block3_conv1 (Conv2D)            (None, 56, 56, 256)   295168      block2_pool[0][0]                \n",
            "____________________________________________________________________________________________________\n",
            "batch_normalization_5 (BatchNorm (None, 56, 56, 256)   1024        block3_conv1[0][0]               \n",
            "____________________________________________________________________________________________________\n",
            "activation_5 (Activation)        (None, 56, 56, 256)   0           batch_normalization_5[0][0]      \n",
            "____________________________________________________________________________________________________\n",
            "block3_conv2 (Conv2D)            (None, 56, 56, 256)   590080      activation_5[0][0]               \n",
            "____________________________________________________________________________________________________\n",
            "batch_normalization_6 (BatchNorm (None, 56, 56, 256)   1024        block3_conv2[0][0]               \n",
            "____________________________________________________________________________________________________\n",
            "activation_6 (Activation)        (None, 56, 56, 256)   0           batch_normalization_6[0][0]      \n",
            "____________________________________________________________________________________________________\n",
            "block3_conv3 (Conv2D)            (None, 56, 56, 256)   590080      activation_6[0][0]               \n",
            "____________________________________________________________________________________________________\n",
            "batch_normalization_7 (BatchNorm (None, 56, 56, 256)   1024        block3_conv3[0][0]               \n",
            "____________________________________________________________________________________________________\n",
            "activation_7 (Activation)        (None, 56, 56, 256)   0           batch_normalization_7[0][0]      \n",
            "____________________________________________________________________________________________________\n",
            "block3_pool (MaxPoolingWithArgma [(None, 28, 28, 256), 0           activation_7[0][0]               \n",
            "____________________________________________________________________________________________________\n",
            "block4_conv1 (Conv2D)            (None, 28, 28, 512)   1180160     block3_pool[0][0]                \n",
            "____________________________________________________________________________________________________\n",
            "batch_normalization_8 (BatchNorm (None, 28, 28, 512)   2048        block4_conv1[0][0]               \n",
            "____________________________________________________________________________________________________\n",
            "activation_8 (Activation)        (None, 28, 28, 512)   0           batch_normalization_8[0][0]      \n",
            "____________________________________________________________________________________________________\n",
            "block4_conv2 (Conv2D)            (None, 28, 28, 512)   2359808     activation_8[0][0]               \n",
            "____________________________________________________________________________________________________\n",
            "batch_normalization_9 (BatchNorm (None, 28, 28, 512)   2048        block4_conv2[0][0]               \n",
            "____________________________________________________________________________________________________\n",
            "activation_9 (Activation)        (None, 28, 28, 512)   0           batch_normalization_9[0][0]      \n",
            "____________________________________________________________________________________________________\n",
            "block4_conv3 (Conv2D)            (None, 28, 28, 512)   2359808     activation_9[0][0]               \n",
            "____________________________________________________________________________________________________\n",
            "batch_normalization_10 (BatchNor (None, 28, 28, 512)   2048        block4_conv3[0][0]               \n",
            "____________________________________________________________________________________________________\n",
            "activation_10 (Activation)       (None, 28, 28, 512)   0           batch_normalization_10[0][0]     \n",
            "____________________________________________________________________________________________________\n",
            "block4_pool (MaxPoolingWithArgma [(None, 14, 14, 512), 0           activation_10[0][0]              \n",
            "____________________________________________________________________________________________________\n",
            "block5_conv1 (Conv2D)            (None, 14, 14, 512)   2359808     block4_pool[0][0]                \n",
            "____________________________________________________________________________________________________\n",
            "batch_normalization_11 (BatchNor (None, 14, 14, 512)   2048        block5_conv1[0][0]               \n",
            "____________________________________________________________________________________________________\n",
            "activation_11 (Activation)       (None, 14, 14, 512)   0           batch_normalization_11[0][0]     \n",
            "____________________________________________________________________________________________________\n",
            "block5_conv2 (Conv2D)            (None, 14, 14, 512)   2359808     activation_11[0][0]              \n",
            "____________________________________________________________________________________________________\n",
            "batch_normalization_12 (BatchNor (None, 14, 14, 512)   2048        block5_conv2[0][0]               \n",
            "____________________________________________________________________________________________________\n",
            "activation_12 (Activation)       (None, 14, 14, 512)   0           batch_normalization_12[0][0]     \n",
            "____________________________________________________________________________________________________\n",
            "block5_conv3 (Conv2D)            (None, 14, 14, 512)   2359808     activation_12[0][0]              \n",
            "____________________________________________________________________________________________________\n",
            "batch_normalization_13 (BatchNor (None, 14, 14, 512)   2048        block5_conv3[0][0]               \n",
            "____________________________________________________________________________________________________\n",
            "activation_13 (Activation)       (None, 14, 14, 512)   0           batch_normalization_13[0][0]     \n",
            "____________________________________________________________________________________________________\n",
            "block5_pool (MaxPoolingWithArgma [(None, 7, 7, 512), ( 0           activation_13[0][0]              \n",
            "____________________________________________________________________________________________________\n",
            "max_unpooling2d_1 (MaxUnpooling2 (None, 14, 14, 512)   0           block5_pool[0][0]                \n",
            "                                                                   block5_pool[0][1]                \n",
            "____________________________________________________________________________________________________\n",
            "conv2d_1 (Conv2D)                (None, 14, 14, 512)   2359808     max_unpooling2d_1[0][0]          \n",
            "____________________________________________________________________________________________________\n",
            "batch_normalization_14 (BatchNor (None, 14, 14, 512)   2048        conv2d_1[0][0]                   \n",
            "____________________________________________________________________________________________________\n",
            "activation_14 (Activation)       (None, 14, 14, 512)   0           batch_normalization_14[0][0]     \n",
            "____________________________________________________________________________________________________\n",
            "conv2d_2 (Conv2D)                (None, 14, 14, 512)   2359808     activation_14[0][0]              \n",
            "____________________________________________________________________________________________________\n",
            "batch_normalization_15 (BatchNor (None, 14, 14, 512)   2048        conv2d_2[0][0]                   \n",
            "____________________________________________________________________________________________________\n",
            "activation_15 (Activation)       (None, 14, 14, 512)   0           batch_normalization_15[0][0]     \n",
            "____________________________________________________________________________________________________\n",
            "conv2d_3 (Conv2D)                (None, 14, 14, 512)   2359808     activation_15[0][0]              \n",
            "____________________________________________________________________________________________________\n",
            "batch_normalization_16 (BatchNor (None, 14, 14, 512)   2048        conv2d_3[0][0]                   \n",
            "____________________________________________________________________________________________________\n",
            "activation_16 (Activation)       (None, 14, 14, 512)   0           batch_normalization_16[0][0]     \n",
            "____________________________________________________________________________________________________\n",
            "max_unpooling2d_2 (MaxUnpooling2 (None, 28, 28, 512)   0           activation_16[0][0]              \n",
            "                                                                   block4_pool[0][1]                \n",
            "____________________________________________________________________________________________________\n",
            "conv2d_4 (Conv2D)                (None, 28, 28, 512)   2359808     max_unpooling2d_2[0][0]          \n",
            "____________________________________________________________________________________________________\n",
            "batch_normalization_17 (BatchNor (None, 28, 28, 512)   2048        conv2d_4[0][0]                   \n",
            "____________________________________________________________________________________________________\n",
            "activation_17 (Activation)       (None, 28, 28, 512)   0           batch_normalization_17[0][0]     \n",
            "____________________________________________________________________________________________________\n",
            "conv2d_5 (Conv2D)                (None, 28, 28, 512)   2359808     activation_17[0][0]              \n",
            "____________________________________________________________________________________________________\n",
            "batch_normalization_18 (BatchNor (None, 28, 28, 512)   2048        conv2d_5[0][0]                   \n",
            "____________________________________________________________________________________________________\n",
            "activation_18 (Activation)       (None, 28, 28, 512)   0           batch_normalization_18[0][0]     \n",
            "____________________________________________________________________________________________________\n",
            "conv2d_6 (Conv2D)                (None, 28, 28, 256)   1179904     activation_18[0][0]              \n",
            "____________________________________________________________________________________________________\n",
            "batch_normalization_19 (BatchNor (None, 28, 28, 256)   1024        conv2d_6[0][0]                   \n",
            "____________________________________________________________________________________________________\n",
            "activation_19 (Activation)       (None, 28, 28, 256)   0           batch_normalization_19[0][0]     \n",
            "____________________________________________________________________________________________________\n",
            "max_unpooling2d_3 (MaxUnpooling2 (None, 56, 56, 256)   0           activation_19[0][0]              \n",
            "                                                                   block3_pool[0][1]                \n",
            "____________________________________________________________________________________________________\n",
            "conv2d_7 (Conv2D)                (None, 56, 56, 256)   590080      max_unpooling2d_3[0][0]          \n",
            "____________________________________________________________________________________________________\n",
            "batch_normalization_20 (BatchNor (None, 56, 56, 256)   1024        conv2d_7[0][0]                   \n",
            "____________________________________________________________________________________________________\n",
            "activation_20 (Activation)       (None, 56, 56, 256)   0           batch_normalization_20[0][0]     \n",
            "____________________________________________________________________________________________________\n",
            "conv2d_8 (Conv2D)                (None, 56, 56, 256)   590080      activation_20[0][0]              \n",
            "____________________________________________________________________________________________________\n",
            "batch_normalization_21 (BatchNor (None, 56, 56, 256)   1024        conv2d_8[0][0]                   \n",
            "____________________________________________________________________________________________________\n",
            "activation_21 (Activation)       (None, 56, 56, 256)   0           batch_normalization_21[0][0]     \n",
            "____________________________________________________________________________________________________\n",
            "conv2d_9 (Conv2D)                (None, 56, 56, 128)   295040      activation_21[0][0]              \n",
            "____________________________________________________________________________________________________\n",
            "batch_normalization_22 (BatchNor (None, 56, 56, 128)   512         conv2d_9[0][0]                   \n",
            "____________________________________________________________________________________________________\n",
            "activation_22 (Activation)       (None, 56, 56, 128)   0           batch_normalization_22[0][0]     \n",
            "____________________________________________________________________________________________________\n",
            "max_unpooling2d_4 (MaxUnpooling2 (None, 112, 112, 128) 0           activation_22[0][0]              \n",
            "                                                                   block2_pool[0][1]                \n",
            "____________________________________________________________________________________________________\n",
            "conv2d_10 (Conv2D)               (None, 112, 112, 128) 147584      max_unpooling2d_4[0][0]          \n",
            "____________________________________________________________________________________________________\n",
            "batch_normalization_23 (BatchNor (None, 112, 112, 128) 512         conv2d_10[0][0]                  \n",
            "____________________________________________________________________________________________________\n",
            "activation_23 (Activation)       (None, 112, 112, 128) 0           batch_normalization_23[0][0]     \n",
            "____________________________________________________________________________________________________\n",
            "conv2d_11 (Conv2D)               (None, 112, 112, 64)  73792       activation_23[0][0]              \n",
            "____________________________________________________________________________________________________\n",
            "batch_normalization_24 (BatchNor (None, 112, 112, 64)  256         conv2d_11[0][0]                  \n",
            "____________________________________________________________________________________________________\n",
            "activation_24 (Activation)       (None, 112, 112, 64)  0           batch_normalization_24[0][0]     \n",
            "____________________________________________________________________________________________________\n",
            "max_unpooling2d_5 (MaxUnpooling2 (None, 224, 224, 64)  0           activation_24[0][0]              \n",
            "                                                                   block1_pool[0][1]                \n",
            "____________________________________________________________________________________________________\n",
            "conv2d_12 (Conv2D)               (None, 224, 224, 64)  36928       max_unpooling2d_5[0][0]          \n",
            "____________________________________________________________________________________________________\n",
            "batch_normalization_25 (BatchNor (None, 224, 224, 64)  256         conv2d_12[0][0]                  \n",
            "____________________________________________________________________________________________________\n",
            "activation_25 (Activation)       (None, 224, 224, 64)  0           batch_normalization_25[0][0]     \n",
            "____________________________________________________________________________________________________\n",
            "conv2d_13 (Conv2D)               (None, 224, 224, 12)  780         activation_25[0][0]              \n",
            "____________________________________________________________________________________________________\n",
            "batch_normalization_26 (BatchNor (None, 224, 224, 12)  48          conv2d_13[0][0]                  \n",
            "____________________________________________________________________________________________________\n",
            "dense_1 (Dense)                  (None, 224, 224, 12)  156         batch_normalization_26[0][0]     \n",
            "____________________________________________________________________________________________________\n",
            "activation_26 (Activation)       (None, 224, 224, 12)  0           dense_1[0][0]                    \n",
            "====================================================================================================\n",
            "Total params: 29,459,864\n",
            "Trainable params: 29,443,968\n",
            "Non-trainable params: 15,896\n",
            "____________________________________________________________________________________________________\n"
          ]
        }
      ],
      "source": [
        "model.summary()"
      ]
    },
    {
      "cell_type": "code",
      "execution_count": 20,
      "metadata": {
        "colab": {},
        "colab_type": "code",
        "id": "ATjkcuacSeTc"
      },
      "outputs": [
        {
          "name": "stdout",
          "output_type": "stream",
          "text": [
            "WARNING:tensorflow:From d:\\Downloads\\python3.6\\lib\\site-packages\\tensorflow_core\\python\\ops\\resource_variable_ops.py:1630: calling BaseResourceVariable.__init__ (from tensorflow.python.ops.resource_variable_ops) with constraint is deprecated and will be removed in a future version.\n",
            "Instructions for updating:\n",
            "If using Keras pass *_constraint arguments to layers.\n"
          ]
        }
      ],
      "source": [
        "VGG16_MODEL=tf.keras.applications.VGG16(include_top=False, weights='imagenet')"
      ]
    },
    {
      "cell_type": "code",
      "execution_count": 21,
      "metadata": {
        "colab": {},
        "colab_type": "code",
        "id": "ije4zeaJS7I4"
      },
      "outputs": [
        {
          "name": "stdout",
          "output_type": "stream",
          "text": [
            "Model: \"vgg16\"\n",
            "_________________________________________________________________\n",
            "Layer (type)                 Output Shape              Param #   \n",
            "=================================================================\n",
            "input_1 (InputLayer)         [(None, None, None, 3)]   0         \n",
            "_________________________________________________________________\n",
            "block1_conv1 (Conv2D)        (None, None, None, 64)    1792      \n",
            "_________________________________________________________________\n",
            "block1_conv2 (Conv2D)        (None, None, None, 64)    36928     \n",
            "_________________________________________________________________\n",
            "block1_pool (MaxPooling2D)   (None, None, None, 64)    0         \n",
            "_________________________________________________________________\n",
            "block2_conv1 (Conv2D)        (None, None, None, 128)   73856     \n",
            "_________________________________________________________________\n",
            "block2_conv2 (Conv2D)        (None, None, None, 128)   147584    \n",
            "_________________________________________________________________\n",
            "block2_pool (MaxPooling2D)   (None, None, None, 128)   0         \n",
            "_________________________________________________________________\n",
            "block3_conv1 (Conv2D)        (None, None, None, 256)   295168    \n",
            "_________________________________________________________________\n",
            "block3_conv2 (Conv2D)        (None, None, None, 256)   590080    \n",
            "_________________________________________________________________\n",
            "block3_conv3 (Conv2D)        (None, None, None, 256)   590080    \n",
            "_________________________________________________________________\n",
            "block3_pool (MaxPooling2D)   (None, None, None, 256)   0         \n",
            "_________________________________________________________________\n",
            "block4_conv1 (Conv2D)        (None, None, None, 512)   1180160   \n",
            "_________________________________________________________________\n",
            "block4_conv2 (Conv2D)        (None, None, None, 512)   2359808   \n",
            "_________________________________________________________________\n",
            "block4_conv3 (Conv2D)        (None, None, None, 512)   2359808   \n",
            "_________________________________________________________________\n",
            "block4_pool (MaxPooling2D)   (None, None, None, 512)   0         \n",
            "_________________________________________________________________\n",
            "block5_conv1 (Conv2D)        (None, None, None, 512)   2359808   \n",
            "_________________________________________________________________\n",
            "block5_conv2 (Conv2D)        (None, None, None, 512)   2359808   \n",
            "_________________________________________________________________\n",
            "block5_conv3 (Conv2D)        (None, None, None, 512)   2359808   \n",
            "_________________________________________________________________\n",
            "block5_pool (MaxPooling2D)   (None, None, None, 512)   0         \n",
            "=================================================================\n",
            "Total params: 14,714,688\n",
            "Trainable params: 14,714,688\n",
            "Non-trainable params: 0\n",
            "_________________________________________________________________\n"
          ]
        }
      ],
      "source": [
        "VGG16_MODEL.summary()"
      ]
    },
    {
      "cell_type": "code",
      "execution_count": 22,
      "metadata": {
        "colab": {},
        "colab_type": "code",
        "id": "o0bYE_mJfIIW"
      },
      "outputs": [
        {
          "name": "stdout",
          "output_type": "stream",
          "text": [
            "WARNING:tensorflow:From d:\\Downloads\\python3.6\\lib\\site-packages\\keras\\backend\\tensorflow_backend.py:153: The name tf.get_default_session is deprecated. Please use tf.compat.v1.get_default_session instead.\n",
            "\n",
            "WARNING:tensorflow:From d:\\Downloads\\python3.6\\lib\\site-packages\\keras\\backend\\tensorflow_backend.py:158: The name tf.ConfigProto is deprecated. Please use tf.compat.v1.ConfigProto instead.\n",
            "\n",
            "WARNING:tensorflow:From d:\\Downloads\\python3.6\\lib\\site-packages\\keras\\backend\\tensorflow_backend.py:163: The name tf.Session is deprecated. Please use tf.compat.v1.Session instead.\n",
            "\n",
            "WARNING:tensorflow:From d:\\Downloads\\python3.6\\lib\\site-packages\\keras\\backend\\tensorflow_backend.py:333: The name tf.global_variables is deprecated. Please use tf.compat.v1.global_variables instead.\n",
            "\n",
            "WARNING:tensorflow:From d:\\Downloads\\python3.6\\lib\\site-packages\\keras\\backend\\tensorflow_backend.py:341: The name tf.variables_initializer is deprecated. Please use tf.compat.v1.variables_initializer instead.\n",
            "\n"
          ]
        }
      ],
      "source": [
        "from tensorflow.keras.layers import Conv2D\n",
        "layers = model.layers\n",
        "merged_layers = []\n",
        "count = 1\n",
        "for _layer in layers:\n",
        "  if isinstance(_layer, Convolution2D):\n",
        "    merged_layers.append(_layer)\n",
        "  if _layer.name == \"block5_pool\":\n",
        "    break\n",
        "\n",
        "vgg_layer =[]\n",
        "vgg_layers = VGG16_MODEL.layers\n",
        "for _layer in vgg_layers:\n",
        "  if isinstance(_layer, Conv2D):\n",
        "    vgg_layer.append(_layer)\n",
        "\n",
        "for seg_model, vgg_model in zip(merged_layers, vgg_layer):\n",
        "  wk0 = vgg_model.get_weights()\n",
        "  seg_model.set_weights(wk0)\n",
        "\n"
      ]
    },
    {
      "cell_type": "code",
      "execution_count": 23,
      "metadata": {
        "colab": {},
        "colab_type": "code",
        "id": "fCcMg0FrAmx4"
      },
      "outputs": [
        {
          "name": "stdout",
          "output_type": "stream",
          "text": [
            "WARNING:tensorflow:From d:\\Downloads\\python3.6\\lib\\site-packages\\keras\\optimizers.py:711: The name tf.train.Optimizer is deprecated. Please use tf.compat.v1.train.Optimizer instead.\n",
            "\n",
            "WARNING:tensorflow:From d:\\Downloads\\python3.6\\lib\\site-packages\\keras\\backend\\tensorflow_backend.py:2759: The name tf.log is deprecated. Please use tf.math.log instead.\n",
            "\n"
          ]
        }
      ],
      "source": [
        "sgd = tf.keras.optimizers.SGD(lr=0.1, momentum=0.9)\n",
        "model.compile(loss=\"categorical_crossentropy\", optimizer='sgd', metrics=['acc'])"
      ]
    },
    {
      "cell_type": "code",
      "execution_count": 24,
      "metadata": {},
      "outputs": [
        {
          "name": "stdout",
          "output_type": "stream",
          "text": [
            "(468, 224, 224, 3)\n"
          ]
        }
      ],
      "source": [
        "print(X_train.shape)"
      ]
    },
    {
      "cell_type": "code",
      "execution_count": 25,
      "metadata": {
        "colab": {},
        "colab_type": "code",
        "id": "rfnE1rtc7mAX"
      },
      "outputs": [
        {
          "data": {
            "text/plain": [
              "'history = model.fit(X_train, y_train,\\n                    batch_size=12,\\n                    epochs=200, \\n                    shuffle=True,\\n                    validation_split=0.2)'"
            ]
          },
          "execution_count": 25,
          "metadata": {},
          "output_type": "execute_result"
        }
      ],
      "source": [
        "history = model.fit(X_train, y_train,\n",
        "                    batch_size=12,\n",
        "                    epochs=200, \n",
        "                    shuffle=True,\n",
        "                    validation_split=0.2)"
      ]
    },
    {
      "cell_type": "code",
      "execution_count": 26,
      "metadata": {
        "colab": {},
        "colab_type": "code",
        "id": "4ZDx5anKnlm5"
      },
      "outputs": [
        {
          "ename": "NameError",
          "evalue": "name 'history' is not defined",
          "output_type": "error",
          "traceback": [
            "\u001b[1;31m---------------------------------------------------------------------------\u001b[0m",
            "\u001b[1;31mNameError\u001b[0m                                 Traceback (most recent call last)",
            "\u001b[1;32m<ipython-input-26-b2dcc5d67f0d>\u001b[0m in \u001b[0;36m<module>\u001b[1;34m\u001b[0m\n\u001b[1;32m----> 1\u001b[1;33m \u001b[0mhistory\u001b[0m\u001b[1;33m.\u001b[0m\u001b[0mhistory\u001b[0m\u001b[1;33m.\u001b[0m\u001b[0mkeys\u001b[0m\u001b[1;33m(\u001b[0m\u001b[1;33m)\u001b[0m\u001b[1;33m\u001b[0m\u001b[1;33m\u001b[0m\u001b[0m\n\u001b[0m",
            "\u001b[1;31mNameError\u001b[0m: name 'history' is not defined"
          ]
        }
      ],
      "source": [
        "history.history.keys()"
      ]
    },
    {
      "cell_type": "code",
      "execution_count": null,
      "metadata": {
        "colab": {},
        "colab_type": "code",
        "id": "WuBSg0ocpaPy"
      },
      "outputs": [],
      "source": [
        "model.evaluate(X_test, y_test)"
      ]
    },
    {
      "cell_type": "code",
      "execution_count": null,
      "metadata": {
        "colab": {},
        "colab_type": "code",
        "id": "MhYzmJM1A-cc"
      },
      "outputs": [],
      "source": [
        "plt.plot(history.history['acc'])\n",
        "plt.plot(history.history['val_acc'])\n",
        "plt.title('Model Accuracy')\n",
        "plt.ylabel('Accuracy')\n",
        "plt.xlabel('Epoch')\n",
        "plt.legend(['Train', 'Test'], loc='upper left')\n",
        "plt.show()\n",
        "\n",
        "plt.plot(history.history['loss'])\n",
        "plt.plot(history.history['val_loss'])\n",
        "plt.title('Model Loss')\n",
        "plt.ylabel('Loss')\n",
        "plt.xlabel('Epoch')\n",
        "plt.legend(['Train', 'Test'], loc='upper left')\n",
        "plt.show()"
      ]
    },
    {
      "cell_type": "code",
      "execution_count": null,
      "metadata": {
        "colab": {
          "base_uri": "https://localhost:8080/",
          "height": 526
        },
        "colab_type": "code",
        "id": "R2BEgt3e_S_l",
        "outputId": "452ccb2d-86af-4a1e-cc94-cea70da75621"
      },
      "outputs": [],
      "source": [
        "pred = model.predict(X_test, verbose=1)\n",
        "\n",
        "ranidx = randint(0, len(y_test))\n",
        "gs = GridSpec(1,12)\n",
        "plt.figure(dpi=200)\n",
        "for i in range(12):\n",
        "    plt.subplot(gs[i]), plt.imshow(pred[ranidx][:,:,i], cmap='jet'), plt.axis('off')\n",
        "\n",
        "plt.figure(dpi=200)\n",
        "for i in range(12):\n",
        "    plt.subplot(gs[i]), plt.imshow(y_test[ranidx][:,:,i],cmap='jet'), plt.axis('off')\n",
        "    \n",
        "plt.figure(),plt.imshow(X_test[ranidx]), plt.axis('off')"
      ]
    },
    {
      "cell_type": "code",
      "execution_count": null,
      "metadata": {
        "colab": {
          "base_uri": "https://localhost:8080/",
          "height": 643
        },
        "colab_type": "code",
        "id": "Rgkpbgp-Zsbt",
        "outputId": "56629233-ba40-4212-9ffa-a265e1d08e6d"
      },
      "outputs": [],
      "source": [
        "# refer from : https://github.com/preddy5/segnet/blob/master/Segnet.ipynb\n",
        "Sky = [128,128,128]\n",
        "Building = [128,0,0]\n",
        "Pole = [192,192,128]\n",
        "Road_marking = [255,69,0]\n",
        "Road = [128,64,128]\n",
        "Pavement = [60,40,222]\n",
        "Tree = [128,128,0]\n",
        "SignSymbol = [192,128,128]\n",
        "Fence = [64,64,128]\n",
        "Car = [64,0,128]\n",
        "Pedestrian = [64,64,0]\n",
        "Bicyclist = [0,128,192]\n",
        "Unlabelled = [0,0,0]\n",
        "\n",
        "label_colours = np.array([Sky, Building, Pole, Road, Pavement,\n",
        "                          Tree, SignSymbol, Fence, Car, Pedestrian, Bicyclist, Unlabelled])\n",
        "\n",
        "def visualize(temp, plot=True):\n",
        "    r = temp.copy()\n",
        "    g = temp.copy()\n",
        "    b = temp.copy()\n",
        "\n",
        "    for l in [0, 3, 4, 8, 9, 10]:\n",
        "        r[temp==l]=label_colours[l,0]                                                         \n",
        "        g[temp==l]=label_colours[l,1]\n",
        "        b[temp==l]=label_colours[l,2]\n",
        "\n",
        "    rgb = np.zeros((temp.shape[0], temp.shape[1], 3))\n",
        "    rgb[:,:,0] = (r/255.0)#[:,:,0]\n",
        "    rgb[:,:,1] = (g/255.0)#[:,:,1]\n",
        "    rgb[:,:,2] = (b/255.0)#[:,:,2]\n",
        "    if plot:\n",
        "        plt.imshow(rgb)\n",
        "    else:\n",
        "        return rgb\n",
        "\n",
        "randsample = sample(range(0,len(pred)), 4)\n",
        "gs = GridSpec(3,5)\n",
        "plt.figure(dpi=200)\n",
        "\n",
        "for i in range(4):\n",
        "    output = visualize(np.argmax(pred[randsample[i]],axis=2).reshape((224,224)), plot=False)\n",
        "    out_test = visualize(np.argmax(y_test[randsample[i]],axis=2).reshape((224,224)), plot=False)\n",
        "        \n",
        "    plt.subplot(gs[i]), plt.imshow(X_test[randsample[i]]), plt.axis('off')\n",
        "    plt.subplot(gs[5+i]), plt.imshow(output), plt.axis('off')\n",
        "    plt.subplot(gs[10+i]), plt.imshow(out_test), plt.axis('off')"
      ]
    },
    {
      "cell_type": "code",
      "execution_count": null,
      "metadata": {
        "colab": {},
        "colab_type": "code",
        "id": "n0jVU9fcbcSj"
      },
      "outputs": [],
      "source": []
    }
  ],
  "metadata": {
    "accelerator": "GPU",
    "colab": {
      "collapsed_sections": [],
      "machine_shape": "hm",
      "name": "Copy of Copy of SegNet_data.ipynb",
      "provenance": []
    },
    "kernelspec": {
      "display_name": "Python 3.6.8rc1 64-bit",
      "language": "python",
      "name": "python3"
    },
    "language_info": {
      "codemirror_mode": {
        "name": "ipython",
        "version": 3
      },
      "file_extension": ".py",
      "mimetype": "text/x-python",
      "name": "python",
      "nbconvert_exporter": "python",
      "pygments_lexer": "ipython3",
      "version": "3.6.8rc1"
    },
    "vscode": {
      "interpreter": {
        "hash": "db9c657620c8578ddfc3d9ba89c38fdc5fd80f960e156f76bd6d1a512183127c"
      }
    }
  },
  "nbformat": 4,
  "nbformat_minor": 0
}
